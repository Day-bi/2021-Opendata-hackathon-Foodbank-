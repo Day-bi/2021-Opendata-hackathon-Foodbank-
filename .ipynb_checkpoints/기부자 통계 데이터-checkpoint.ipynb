{
 "cells": [
  {
   "cell_type": "code",
   "execution_count": 64,
   "id": "boxed-bahamas",
   "metadata": {},
   "outputs": [],
   "source": [
    "#\n",
    "import requests\n",
    "import pandas as pd\n",
    "from bs4 import BeautifulSoup\n",
    "import xmltodict\n",
    "import json\n",
    "\n",
    "import requests, xmltodict,json, pandas as pd\n",
    "from pandas.io.json import json_normalize"
   ]
  },
  {
   "cell_type": "code",
   "execution_count": 65,
   "id": "threaded-mount",
   "metadata": {},
   "outputs": [],
   "source": [
    "key = \"n3ShZ50BH%2B3BPRnQ0wD0PnX5YxJEoWTOXt7N3GzQN2fkAPCjMLTpo%2FqxHfIW%2FWI344oDzIiTaQJ5ratuQfJOGQ%3D%3D\"\n",
    "url = \"http://apis.data.go.kr/B460014/foodBankInfoService2/getUserInfo?serviceKey={}\".format(key)+\"&stdrYm=201712&numOfRows=10000&pageNo=1\""
   ]
  },
  {
   "cell_type": "code",
   "execution_count": 72,
   "id": "round-trace",
   "metadata": {},
   "outputs": [],
   "source": [
    "content = requests.get(url).content"
   ]
  },
  {
   "cell_type": "code",
   "execution_count": 110,
   "id": "dutch-monkey",
   "metadata": {
    "scrolled": true
   },
   "outputs": [
    {
     "ename": "ExpatError",
     "evalue": "syntax error: line 20, column 62",
     "output_type": "error",
     "traceback": [
      "\u001b[1;31m---------------------------------------------------------------------------\u001b[0m",
      "\u001b[1;31mExpatError\u001b[0m                                Traceback (most recent call last)",
      "\u001b[1;32m<ipython-input-110-049a77dedf44>\u001b[0m in \u001b[0;36m<module>\u001b[1;34m\u001b[0m\n\u001b[1;32m----> 1\u001b[1;33m \u001b[0mdic\u001b[0m \u001b[1;33m=\u001b[0m \u001b[0mxmltodict\u001b[0m\u001b[1;33m.\u001b[0m\u001b[0mparse\u001b[0m\u001b[1;33m(\u001b[0m\u001b[0mcontent\u001b[0m\u001b[1;33m)\u001b[0m\u001b[1;33m\u001b[0m\u001b[1;33m\u001b[0m\u001b[0m\n\u001b[0m\u001b[0;32m      2\u001b[0m \u001b[0mjsonString\u001b[0m \u001b[1;33m=\u001b[0m \u001b[0mjson\u001b[0m\u001b[1;33m.\u001b[0m\u001b[0mdumps\u001b[0m\u001b[1;33m(\u001b[0m\u001b[0mdic\u001b[0m\u001b[1;33m[\u001b[0m\u001b[1;34m'response'\u001b[0m\u001b[1;33m]\u001b[0m\u001b[1;33m[\u001b[0m\u001b[1;34m'body'\u001b[0m\u001b[1;33m]\u001b[0m\u001b[1;33m,\u001b[0m \u001b[0mensure_ascii\u001b[0m \u001b[1;33m=\u001b[0m \u001b[1;32mFalse\u001b[0m\u001b[1;33m)\u001b[0m\u001b[1;33m\u001b[0m\u001b[1;33m\u001b[0m\u001b[0m\n\u001b[0;32m      3\u001b[0m \u001b[0mjsonObj\u001b[0m \u001b[1;33m=\u001b[0m \u001b[0mjson\u001b[0m\u001b[1;33m.\u001b[0m\u001b[0mloads\u001b[0m\u001b[1;33m(\u001b[0m\u001b[0mjsonString\u001b[0m\u001b[1;33m)\u001b[0m\u001b[1;33m\u001b[0m\u001b[1;33m\u001b[0m\u001b[0m\n\u001b[0;32m      4\u001b[0m \u001b[1;33m\u001b[0m\u001b[0m\n\u001b[0;32m      5\u001b[0m \u001b[0mbody\u001b[0m \u001b[1;33m=\u001b[0m \u001b[0mjsonObj\u001b[0m\u001b[1;33m[\u001b[0m\u001b[1;34m'items'\u001b[0m\u001b[1;33m]\u001b[0m\u001b[1;33m[\u001b[0m\u001b[1;34m'item'\u001b[0m\u001b[1;33m]\u001b[0m\u001b[1;33m\u001b[0m\u001b[1;33m\u001b[0m\u001b[0m\n",
      "\u001b[1;32m~\\Anaconda3\\envs\\competi\\lib\\site-packages\\xmltodict.py\u001b[0m in \u001b[0;36mparse\u001b[1;34m(xml_input, encoding, expat, process_namespaces, namespace_separator, disable_entities, **kwargs)\u001b[0m\n\u001b[0;32m    325\u001b[0m         \u001b[0mparser\u001b[0m\u001b[1;33m.\u001b[0m\u001b[0mParseFile\u001b[0m\u001b[1;33m(\u001b[0m\u001b[0mxml_input\u001b[0m\u001b[1;33m)\u001b[0m\u001b[1;33m\u001b[0m\u001b[1;33m\u001b[0m\u001b[0m\n\u001b[0;32m    326\u001b[0m     \u001b[1;32melse\u001b[0m\u001b[1;33m:\u001b[0m\u001b[1;33m\u001b[0m\u001b[1;33m\u001b[0m\u001b[0m\n\u001b[1;32m--> 327\u001b[1;33m         \u001b[0mparser\u001b[0m\u001b[1;33m.\u001b[0m\u001b[0mParse\u001b[0m\u001b[1;33m(\u001b[0m\u001b[0mxml_input\u001b[0m\u001b[1;33m,\u001b[0m \u001b[1;32mTrue\u001b[0m\u001b[1;33m)\u001b[0m\u001b[1;33m\u001b[0m\u001b[1;33m\u001b[0m\u001b[0m\n\u001b[0m\u001b[0;32m    328\u001b[0m     \u001b[1;32mreturn\u001b[0m \u001b[0mhandler\u001b[0m\u001b[1;33m.\u001b[0m\u001b[0mitem\u001b[0m\u001b[1;33m\u001b[0m\u001b[1;33m\u001b[0m\u001b[0m\n\u001b[0;32m    329\u001b[0m \u001b[1;33m\u001b[0m\u001b[0m\n",
      "\u001b[1;31mExpatError\u001b[0m: syntax error: line 20, column 62"
     ]
    }
   ],
   "source": [
    "dic = xmltodict.parse(content)\n",
    "jsonString = json.dumps(dic['response']['body'], ensure_ascii = False)\n",
    "jsonObj = json.loads(jsonString)\n",
    "\n",
    "body = jsonObj['items']['item']\n",
    "\n",
    "body.head()"
   ]
  },
  {
   "cell_type": "code",
   "execution_count": 48,
   "id": "central-parts",
   "metadata": {},
   "outputs": [],
   "source": [
    "import warnings\n",
    "warnings.simplefilter(action='ignore', category=FutureWarning)\n",
    "\n",
    "pd.set_option('display.max_rows', None)\n",
    "#df형태로 변환\n",
    "df = json_normalize(body)"
   ]
  },
  {
   "cell_type": "code",
   "execution_count": 49,
   "id": "likely-secretary",
   "metadata": {
    "scrolled": true
   },
   "outputs": [
    {
     "name": "stdout",
     "output_type": "stream",
     "text": [
      "  spctrCd useCo userCo\n",
      "0  S00201   397     23\n",
      "1  S00201    32      2\n",
      "2  S00201    31      3\n",
      "3  S00201     1      1\n",
      "4  S00201    94      9\n"
     ]
    }
   ],
   "source": [
    "#필요한 컬럼들로 filtered_df 생성\n",
    "#기부물품중분류코드, 기부물품수량 열만 가지고옴\n",
    "filtered_df = df[['spctrCd', 'useCo', 'userCo']]\n",
    "print(filtered_df.head(5))"
   ]
  },
  {
   "cell_type": "code",
   "execution_count": 50,
   "id": "informed-philosophy",
   "metadata": {},
   "outputs": [
    {
     "data": {
      "text/html": [
       "<div>\n",
       "<style scoped>\n",
       "    .dataframe tbody tr th:only-of-type {\n",
       "        vertical-align: middle;\n",
       "    }\n",
       "\n",
       "    .dataframe tbody tr th {\n",
       "        vertical-align: top;\n",
       "    }\n",
       "\n",
       "    .dataframe thead th {\n",
       "        text-align: right;\n",
       "    }\n",
       "</style>\n",
       "<table border=\"1\" class=\"dataframe\">\n",
       "  <thead>\n",
       "    <tr style=\"text-align: right;\">\n",
       "      <th></th>\n",
       "      <th>spctrCd</th>\n",
       "      <th>useCo</th>\n",
       "      <th>userCo</th>\n",
       "    </tr>\n",
       "  </thead>\n",
       "  <tbody>\n",
       "    <tr>\n",
       "      <th>0</th>\n",
       "      <td>S00201</td>\n",
       "      <td>397</td>\n",
       "      <td>23</td>\n",
       "    </tr>\n",
       "    <tr>\n",
       "      <th>1</th>\n",
       "      <td>S00201</td>\n",
       "      <td>32</td>\n",
       "      <td>2</td>\n",
       "    </tr>\n",
       "    <tr>\n",
       "      <th>2</th>\n",
       "      <td>S00201</td>\n",
       "      <td>31</td>\n",
       "      <td>3</td>\n",
       "    </tr>\n",
       "    <tr>\n",
       "      <th>3</th>\n",
       "      <td>S00201</td>\n",
       "      <td>1</td>\n",
       "      <td>1</td>\n",
       "    </tr>\n",
       "    <tr>\n",
       "      <th>4</th>\n",
       "      <td>S00201</td>\n",
       "      <td>94</td>\n",
       "      <td>9</td>\n",
       "    </tr>\n",
       "  </tbody>\n",
       "</table>\n",
       "</div>"
      ],
      "text/plain": [
       "  spctrCd  useCo  userCo\n",
       "0  S00201    397      23\n",
       "1  S00201     32       2\n",
       "2  S00201     31       3\n",
       "3  S00201      1       1\n",
       "4  S00201     94       9"
      ]
     },
     "execution_count": 50,
     "metadata": {},
     "output_type": "execute_result"
    }
   ],
   "source": [
    "#데이터형태 변경으로 생기는 경고 제거\n",
    "pd.set_option('mode.chained_assignment',  None)\n",
    "\n",
    "#처음에 물품 수가 int형태로 안되어있어 제대로 정렬안됨\n",
    "#int로 형변환시켜줌\n",
    "filtered_df['useCo'] = filtered_df['useCo'].astype('int')\n",
    "filtered_df['userCo'] = filtered_df['userCo'].astype('int')\n",
    "\n",
    "#이용자수 오름차순 정렬\n",
    "filtered_df.sort_values('userCo', ascending=False)\n",
    "#이용자수 내림차순 정렬\n",
    "filtered_df.sort_values('userCo', ascending=True)\n",
    "#(이용자수 혹은 이용물품수) 대비 기부자수 비율로 기부가\n",
    "#더 필요한 센터 기부가 많았던 센터 결과도출\n",
    "filtered_df.head()"
   ]
  },
  {
   "cell_type": "code",
   "execution_count": 51,
   "id": "unauthorized-pasta",
   "metadata": {},
   "outputs": [
    {
     "data": {
      "text/plain": [
       "129037"
      ]
     },
     "execution_count": 51,
     "metadata": {},
     "output_type": "execute_result"
    }
   ],
   "source": [
    "sum(filtered_df['userCo'])"
   ]
  },
  {
   "cell_type": "code",
   "execution_count": null,
   "id": "addressed-plumbing",
   "metadata": {},
   "outputs": [],
   "source": []
  }
 ],
 "metadata": {
  "kernelspec": {
   "display_name": "Python 3",
   "language": "python",
   "name": "python3"
  },
  "language_info": {
   "codemirror_mode": {
    "name": "ipython",
    "version": 3
   },
   "file_extension": ".py",
   "mimetype": "text/x-python",
   "name": "python",
   "nbconvert_exporter": "python",
   "pygments_lexer": "ipython3",
   "version": "3.8.5"
  }
 },
 "nbformat": 4,
 "nbformat_minor": 5
}
